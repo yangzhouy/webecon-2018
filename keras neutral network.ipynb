{
 "cells": [
  {
   "cell_type": "markdown",
   "metadata": {},
   "source": [
    "## just have a look at the case that without downsampling"
   ]
  },
  {
   "cell_type": "code",
   "execution_count": 4,
   "metadata": {
    "collapsed": true
   },
   "outputs": [],
   "source": [
    "import pandas as pd\n",
    "import matplotlib.pyplot as plt\n",
    "import numpy as np"
   ]
  },
  {
   "cell_type": "code",
   "execution_count": 5,
   "metadata": {
    "collapsed": true
   },
   "outputs": [],
   "source": [
    "df_train = pd.read_csv('data/train_clean.csv')\n",
    "df_test = pd.read_csv('test.csv')\n",
    "df_val = pd.read_csv('data/val_clean.csv')\n",
    "\n",
    "train_x = df_train.drop(['click','bidid','userid','IP','city','domain', 'url','urlid','slotid','creative','bidprice','payprice','keypage'], axis=1)\n",
    "train_y = df_train.click\n",
    "\n",
    "val_x = df_val.drop(['click','bidid','userid','IP','city','domain', 'url','urlid','slotid','creative','bidprice','payprice','keypage'], axis=1)\n",
    "val_y = df_val.click\n",
    "\n",
    "test_x = df_test.drop(['bidid','userid','IP','city','domain', 'url','urlid','slotid','creative','keypage'], axis=1)"
   ]
  },
  {
   "cell_type": "markdown",
   "metadata": {},
   "source": [
    "## Data preprocessing with one-hot"
   ]
  },
  {
   "cell_type": "code",
   "execution_count": 6,
   "metadata": {
    "collapsed": true
   },
   "outputs": [],
   "source": [
    "def pip(dataframe):\n",
    "    #weekday\n",
    "    dataframe = pd.concat([dataframe,pd.get_dummies(dataframe.weekday,prefix='day')],axis=1)\n",
    "    #hour\n",
    "    dataframe = pd.concat([dataframe,pd.get_dummies(dataframe.hour,prefix='hour')],axis=1)\n",
    "    #region\n",
    "    dataframe = pd.concat([dataframe,pd.get_dummies(dataframe.region,prefix='region')],axis=1)\n",
    "    #adexchage\n",
    "    dataframe = pd.concat([dataframe,pd.get_dummies(dataframe.adexchange,prefix='adexchange')],axis=1)\n",
    "    #advertiser\n",
    "    dataframe = pd.concat([dataframe,pd.get_dummies(dataframe.advertiser,prefix='advertiser')],axis=1)\n",
    "    # slot width,hight,visibility,format\n",
    "    dataframe = pd.concat([dataframe,pd.get_dummies(dataframe.slotwidth,prefix='slotwidth')],axis=1)\n",
    "    dataframe = pd.concat([dataframe,pd.get_dummies(dataframe.slotheight,prefix='slotheight')],axis=1)\n",
    "    dataframe = pd.concat([dataframe,pd.get_dummies(dataframe.slotvisibility,prefix='slotvisibility')],axis=1)    \n",
    "    dataframe = pd.concat([dataframe,pd.get_dummies(dataframe.slotformat,prefix='slotformat')],axis=1)\n",
    "    \n",
    "    dataframe = dataframe.drop('weekday',axis=1)\n",
    "    dataframe = dataframe.drop('hour',axis=1)\n",
    "    dataframe = dataframe.drop('region',axis=1)\n",
    "    dataframe = dataframe.drop('adexchange',axis=1)\n",
    "    dataframe = dataframe.drop('slotwidth',axis=1)\n",
    "    dataframe = dataframe.drop('slotheight',axis=1)\n",
    "    dataframe = dataframe.drop('advertiser',axis=1)\n",
    "    dataframe = dataframe.drop('slotvisibility',axis=1)\n",
    "    dataframe = dataframe.drop('slotformat',axis=1)\n",
    "    return dataframe\n",
    "\n",
    "def encode_os_browser(dataframe):\n",
    "    df_temp = pd.DataFrame(dataframe.useragent.str.split('_',1).tolist(), columns = ['OS','browser'])\n",
    "    dataframe = pd.concat([dataframe,df_temp],axis=1)\n",
    "    dataframe = dataframe.drop('useragent',axis=1)\n",
    "    dataframe = pd.concat([dataframe,pd.get_dummies(dataframe.OS,prefix='OS')],axis=1)\n",
    "    dataframe = dataframe.drop('OS',axis=1)\n",
    "    dataframe = pd.concat([dataframe,pd.get_dummies(dataframe.browser,prefix='browser')],axis=1)\n",
    "    dataframe = dataframe.drop('browser',axis=1)\n",
    "    return dataframe\n",
    "# 12. Encode slotprice into 5 ranges\n",
    "def encode_slotprice(dataframe):\n",
    "    slotprice_range = pd.DataFrame()\n",
    "    slotprice_range['slotprices'] = pd.cut(dataframe.slotprice.values,5, labels=[1,2,3,4,5])\n",
    "    dataframe = pd.concat([dataframe,slotprice_range],axis=1)\n",
    "    dataframe = pd.concat([dataframe,pd.get_dummies(dataframe.slotprices,prefix='slotprice')],axis=1)\n",
    "    dataframe = dataframe.drop('slotprice',axis=1)\n",
    "    dataframe = dataframe.drop('slotprices',axis=1)\n",
    "    return dataframe\n",
    "def encode_usertags(dataframe):\n",
    "    usertags = list(dataframe.usertag)\n",
    "    unique_users = set()\n",
    "    list_users = []\n",
    "    for user in usertags:\n",
    "        u = user.split(',')\n",
    "        list_users.append(u)\n",
    "        for us in u:\n",
    "            unique_users.add(us)\n",
    "    users = pd.DataFrame()\n",
    "    for user in unique_users:\n",
    "        users[\"user_\"+user] = 0\n",
    "    dataframe = pd.concat([dataframe,users],axis=1)\n",
    "    for user in unique_users:\n",
    "        datas = []\n",
    "        for users in list_users:\n",
    "            if user in users:\n",
    "                datas.append(1)\n",
    "            else:\n",
    "                datas.append(0)\n",
    "        dataframe[\"user_\"+user] = datas\n",
    "    dataframe = dataframe.drop('usertag',axis=1)\n",
    "    return dataframe"
   ]
  },
  {
   "cell_type": "code",
   "execution_count": 7,
   "metadata": {
    "collapsed": true
   },
   "outputs": [],
   "source": [
    "xtrain = pip(train_x)\n",
    "xtrain = encode_os_browser(xtrain)\n",
    "xtrain = encode_usertags(xtrain)"
   ]
  },
  {
   "cell_type": "code",
   "execution_count": 8,
   "metadata": {
    "collapsed": true
   },
   "outputs": [],
   "source": [
    "xval = pip(val_x)\n",
    "xval = encode_os_browser(xval)\n",
    "xval = encode_usertags(xval)"
   ]
  },
  {
   "cell_type": "code",
   "execution_count": 14,
   "metadata": {},
   "outputs": [
    {
     "name": "stderr",
     "output_type": "stream",
     "text": [
      "C:\\Users\\USER\\Anaconda3\\lib\\site-packages\\h5py\\__init__.py:34: FutureWarning: Conversion of the second argument of issubdtype from `float` to `np.floating` is deprecated. In future, it will be treated as `np.float64 == np.dtype(float).type`.\n",
      "  from ._conv import register_converters as _register_converters\n",
      "Using TensorFlow backend.\n"
     ]
    }
   ],
   "source": [
    "x_train = xtrain\n",
    "y_train = ytrain\n",
    "x_val = xval\n",
    "y_val =yval\n",
    "\n",
    "from keras.preprocessing import sequence\n",
    "from keras.models import Sequential\n",
    "from keras.layers import Dense, Dropout, Activation\n",
    "from keras.layers import Embedding\n",
    "from keras.layers import Conv1D, GlobalMaxPooling1D\n",
    "from keras.datasets import imdb"
   ]
  },
  {
   "cell_type": "markdown",
   "metadata": {},
   "source": [
    "### set parameters:\n",
    "max_features = 5000\n",
    "maxlen = 400\n",
    "batch_size = 32\n",
    "embedding_dims = 50\n",
    "filters = 250\n",
    "kernel_size = 3\n",
    "hidden_dims = 250\n",
    "epochs = 1\n",
    "\n",
    "print(len(x_train), 'train sequences')\n",
    "print(len(x_val), 'test sequences')\n"
   ]
  },
  {
   "cell_type": "code",
   "execution_count": 16,
   "metadata": {},
   "outputs": [
    {
     "name": "stdout",
     "output_type": "stream",
     "text": [
      "starting building the model:\n",
      "Train on 2430981 samples, validate on 303925 samples\n",
      "Epoch 1/20\n",
      " - 76s - loss: 0.0383 - acc: 0.9978 - val_loss: 0.0055 - val_acc: 0.9993\n",
      "Epoch 2/20\n",
      " - 73s - loss: 0.0056 - acc: 0.9993 - val_loss: 0.0049 - val_acc: 0.9993\n",
      "Epoch 3/20\n",
      " - 70s - loss: 0.0049 - acc: 0.9993 - val_loss: 0.0048 - val_acc: 0.9993\n",
      "Epoch 4/20\n",
      " - 70s - loss: 0.0047 - acc: 0.9993 - val_loss: 0.0047 - val_acc: 0.9993\n",
      "Epoch 5/20\n",
      " - 70s - loss: 0.0046 - acc: 0.9993 - val_loss: 0.0047 - val_acc: 0.9993\n",
      "Epoch 6/20\n",
      " - 71s - loss: 0.0046 - acc: 0.9993 - val_loss: 0.0047 - val_acc: 0.9993\n",
      "Epoch 7/20\n",
      " - 70s - loss: 0.0045 - acc: 0.9993 - val_loss: 0.0047 - val_acc: 0.9993\n",
      "Epoch 8/20\n",
      " - 70s - loss: 0.0045 - acc: 0.9993 - val_loss: 0.0047 - val_acc: 0.9993\n",
      "Epoch 9/20\n",
      " - 70s - loss: 0.0044 - acc: 0.9993 - val_loss: 0.0047 - val_acc: 0.9994\n",
      "Epoch 10/20\n",
      " - 70s - loss: 0.0044 - acc: 0.9993 - val_loss: 0.0048 - val_acc: 0.9993\n",
      "Epoch 11/20\n",
      " - 70s - loss: 0.0044 - acc: 0.9993 - val_loss: 0.0047 - val_acc: 0.9993\n",
      "Epoch 12/20\n",
      " - 70s - loss: 0.0043 - acc: 0.9993 - val_loss: 0.0047 - val_acc: 0.9993\n",
      "Epoch 13/20\n",
      " - 70s - loss: 0.0043 - acc: 0.9993 - val_loss: 0.0046 - val_acc: 0.9993\n",
      "Epoch 14/20\n",
      " - 70s - loss: 0.0043 - acc: 0.9993 - val_loss: 0.0047 - val_acc: 0.9993\n",
      "Epoch 15/20\n",
      " - 70s - loss: 0.0043 - acc: 0.9994 - val_loss: 0.0047 - val_acc: 0.9993\n",
      "Epoch 16/20\n",
      " - 70s - loss: 0.0042 - acc: 0.9994 - val_loss: 0.0047 - val_acc: 0.9993\n",
      "Epoch 17/20\n",
      " - 70s - loss: 0.0042 - acc: 0.9994 - val_loss: 0.0047 - val_acc: 0.9993\n",
      "Epoch 18/20\n",
      " - 76s - loss: 0.0042 - acc: 0.9994 - val_loss: 0.0047 - val_acc: 0.9993\n",
      "Epoch 19/20\n",
      " - 75s - loss: 0.0042 - acc: 0.9994 - val_loss: 0.0047 - val_acc: 0.9993\n",
      "Epoch 20/20\n",
      " - 70s - loss: 0.0042 - acc: 0.9994 - val_loss: 0.0048 - val_acc: 0.9993\n",
      "Baseline Error: 0.07%\n"
     ]
    }
   ],
   "source": [
    "print('starting building the model:')\n",
    "\n",
    "# define baseline model\n",
    "def baseline_model():\n",
    "    # create model\n",
    "    model = Sequential()\n",
    "    model.add(Dense(12, input_dim=219, activation='relu'))\n",
    "    model.add(Dense(24, kernel_initializer='normal', activation='softmax'))\n",
    "    model.add(Dense(1, activation='sigmoid'))\n",
    "    # Compile model\n",
    "    model.compile(loss='binary_crossentropy', optimizer='adam', metrics=['accuracy'])\n",
    "    return model\n",
    "\n",
    "model = baseline_model()\n",
    "# Fit the model\n",
    "model.fit(x_train, y_train, validation_data=(x_val, y_val), epochs=20, batch_size=200, verbose=2)\n",
    "# Final evaluation of the model\n",
    "scores = model.evaluate(x_val, y_val, verbose=0)\n",
    "print(\"Baseline Error: %.2f%%\" % (100-scores[1]*100))\n"
   ]
  },
  {
   "cell_type": "code",
   "execution_count": 17,
   "metadata": {
    "collapsed": true
   },
   "outputs": [],
   "source": [
    "val_pred = model.predict(x_val)"
   ]
  },
  {
   "cell_type": "code",
   "execution_count": 18,
   "metadata": {},
   "outputs": [
    {
     "data": {
      "text/plain": [
       "array([[0.00021644],\n",
       "       [0.00028987],\n",
       "       [0.00015264],\n",
       "       ...,\n",
       "       [0.00082504],\n",
       "       [0.00031247],\n",
       "       [0.00051086]], dtype=float32)"
      ]
     },
     "execution_count": 18,
     "metadata": {},
     "output_type": "execute_result"
    }
   ],
   "source": [
    "val_pred"
   ]
  },
  {
   "cell_type": "markdown",
   "metadata": {},
   "source": [
    "# tune the base_bid for linear bidding"
   ]
  },
  {
   "cell_type": "code",
   "execution_count": 25,
   "metadata": {
    "collapsed": true
   },
   "outputs": [],
   "source": [
    "avgCTR = 1785/2427741\n",
    "best_base_bid = -1\n",
    "best_metrics = [-1, -1, float('inf'), float('inf'), float('inf')]\n",
    "new_val = df_val.copy()\n",
    "f = open('linear_bid_cnn.txt','w')\n",
    "basicbid = [71,72,73,74,75]\n",
    "\n",
    "for base_bid in basicbid:\n",
    "    bidprices = [x * base_bid / avgCTR for x in val_pred]\n",
    "    new_val['bidprice'] = bidprices\n",
    "    budget = 6250\n",
    "    suc_bids = new_val.query('bidprice > payprice ')\n",
    "    cost = 0\n",
    "    clicks = 0\n",
    "    imps = 0\n",
    "    for index, row in suc_bids.iterrows():\n",
    "        if cost <= budget:\n",
    "            cost += row['payprice'] / 1000\n",
    "            clicks += row['click']\n",
    "            imps += 1\n",
    "    eCPC = cost / clicks if clicks > 0 else float('inf')\n",
    "    metrics_list = [clicks, clicks / imps * 100, cost, cost / imps, eCPC]\n",
    "    f.write('current base_bid: ' + str(base_bid) + '\\n')\n",
    "    f.write('current metrics: ' + str(metrics_list) + '\\n')    \n",
    "    f.flush()\n",
    "f.close()"
   ]
  },
  {
   "cell_type": "code",
   "execution_count": null,
   "metadata": {
    "collapsed": true
   },
   "outputs": [],
   "source": [
    "# # when basic_bid = 73, maxium click 140, CTR= 0.1091, \n",
    "# cost = 6205.830,avgCPM=0.048383, eCPC = 44.327357"
   ]
  },
  {
   "cell_type": "markdown",
   "metadata": {
    "collapsed": true
   },
   "source": [
    "# tune the base_bid for quadratic bidding"
   ]
  },
  {
   "cell_type": "code",
   "execution_count": 28,
   "metadata": {
    "collapsed": true
   },
   "outputs": [],
   "source": [
    "avgCTR = 1785/2427741\n",
    "best_base_bid = -1\n",
    "best_metrics = [-1, -1, float('inf'), float('inf'), float('inf')]\n",
    "new_val = df_val.copy()\n",
    "f = open('quadratic_bid_cnn.txt','w')\n",
    "basicbid = [65,70,71,72,73,74,75]\n",
    "\n",
    "for base_bid in basicbid:\n",
    "    bidprices = [(x * base_bid / avgCTR +x*x*base_bid/avgCTR)for x in val_pred]\n",
    "    new_val['bidprice'] = bidprices\n",
    "    budget = 6250\n",
    "    suc_bids = new_val.query('bidprice > payprice ')\n",
    "    cost = 0\n",
    "    clicks = 0\n",
    "    imps = 0\n",
    "    for index, row in suc_bids.iterrows():\n",
    "        if cost <= budget:\n",
    "            cost += row['payprice'] / 1000\n",
    "            clicks += row['click']\n",
    "            imps += 1\n",
    "    eCPC = cost / clicks if clicks > 0 else float('inf')\n",
    "    metrics_list = [clicks, clicks / imps * 100, cost, cost / imps, eCPC]\n",
    "    f.write('current base_bid: ' + str(base_bid) + '\\n')\n",
    "    f.write('current metrics: ' + str(metrics_list) + '\\n')     \n",
    "    f.flush()\n",
    "f.close()"
   ]
  },
  {
   "cell_type": "code",
   "execution_count": 29,
   "metadata": {
    "collapsed": true
   },
   "outputs": [],
   "source": [
    "# when basic_bid = 73, maxium click 140, CTR=0.1090, \n",
    "# cost = 6213.286,avgCPM=0.04841, eCPC = 44.3806"
   ]
  },
  {
   "cell_type": "markdown",
   "metadata": {},
   "source": [
    "# tune the parameter c for ORTB "
   ]
  },
  {
   "cell_type": "code",
   "execution_count": 46,
   "metadata": {
    "collapsed": true
   },
   "outputs": [],
   "source": [
    "best_base_bid = -1\n",
    "best_metrics = [-1, -1, float('inf'), float('inf'), float('inf')]\n",
    "new_val = df_val.copy()\n",
    "f = open('ORBT_cnn.txt','w')\n",
    "\n",
    "c_list = [9.5,9.8,10,10.1,10.2,10.5]\n",
    "l = 1e-06\n",
    "\n",
    "for c in c_list:\n",
    "    bidprices = [(np.sqrt(((c/l)*x)+(c*c))-c)for x in val_pred]\n",
    "    new_val['bidprice'] = bidprices\n",
    "    budget = 6250\n",
    "    suc_bids = new_val.query('bidprice > payprice ')\n",
    "    cost = 0\n",
    "    clicks = 0\n",
    "    imps = 0\n",
    "    for index, row in suc_bids.iterrows():\n",
    "        if cost <= budget:\n",
    "            cost += row['payprice'] / 1000\n",
    "            clicks += row['click']\n",
    "            imps += 1\n",
    "    eCPC = cost / clicks if clicks > 0 else float('inf')\n",
    "    metrics_list = [clicks, clicks / imps * 100, cost, cost / imps, eCPC]\n",
    "    f.write('current c: ' + str(c) + '\\n')\n",
    "    f.write('current metrics: ' + str(metrics_list) + '\\n')    \n",
    "    f.flush()\n",
    "f.close()"
   ]
  },
  {
   "cell_type": "code",
   "execution_count": null,
   "metadata": {
    "collapsed": true
   },
   "outputs": [],
   "source": [
    "# when c =10, maxium click 128, CTR=0.08728, \n",
    "# cost = 6086.725,avgCPM=0.04150, eCPC = 47.5525"
   ]
  },
  {
   "cell_type": "code",
   "execution_count": null,
   "metadata": {
    "collapsed": true
   },
   "outputs": [],
   "source": []
  }
 ],
 "metadata": {
  "kernelspec": {
   "display_name": "Python 3",
   "language": "python",
   "name": "python3"
  },
  "language_info": {
   "codemirror_mode": {
    "name": "ipython",
    "version": 3
   },
   "file_extension": ".py",
   "mimetype": "text/x-python",
   "name": "python",
   "nbconvert_exporter": "python",
   "pygments_lexer": "ipython3",
   "version": "3.6.2"
  }
 },
 "nbformat": 4,
 "nbformat_minor": 2
}
