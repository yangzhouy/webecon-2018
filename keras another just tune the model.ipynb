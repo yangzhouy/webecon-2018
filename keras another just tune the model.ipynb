{
 "cells": [
  {
   "cell_type": "code",
   "execution_count": 1,
   "metadata": {
    "collapsed": true
   },
   "outputs": [],
   "source": [
    "import pandas as pd\n",
    "import matplotlib.pyplot as plt\n",
    "import numpy as np\n",
    "\n",
    "df_train = pd.read_csv('data/train_clean.csv')\n",
    "df_test = pd.read_csv('test.csv')\n",
    "df_val = pd.read_csv('data/val_clean.csv')\n",
    "\n",
    "train_x = df_train.drop(['click','bidid','userid','IP','city','domain', 'url','urlid','slotid','creative','bidprice','payprice','keypage'], axis=1)\n",
    "train_y = df_train.click\n",
    "\n",
    "val_x = df_val.drop(['click','bidid','userid','IP','city','domain', 'url','urlid','slotid','creative','bidprice','payprice','keypage'], axis=1)\n",
    "val_y = df_val.click\n",
    "\n",
    "test_x = df_test.drop(['bidid','userid','IP','city','domain', 'url','urlid','slotid','creative','keypage'], axis=1)"
   ]
  },
  {
   "cell_type": "code",
   "execution_count": 2,
   "metadata": {
    "collapsed": true
   },
   "outputs": [],
   "source": [
    "def pip(dataframe):\n",
    "    #weekday\n",
    "    dataframe = pd.concat([dataframe,pd.get_dummies(dataframe.weekday,prefix='day')],axis=1)\n",
    "    #hour\n",
    "    dataframe = pd.concat([dataframe,pd.get_dummies(dataframe.hour,prefix='hour')],axis=1)\n",
    "    #region\n",
    "    dataframe = pd.concat([dataframe,pd.get_dummies(dataframe.region,prefix='region')],axis=1)\n",
    "    #adexchage\n",
    "    dataframe = pd.concat([dataframe,pd.get_dummies(dataframe.adexchange,prefix='adexchange')],axis=1)\n",
    "    #advertiser\n",
    "    dataframe = pd.concat([dataframe,pd.get_dummies(dataframe.advertiser,prefix='advertiser')],axis=1)\n",
    "    # slot width,hight,visibility,format\n",
    "    dataframe = pd.concat([dataframe,pd.get_dummies(dataframe.slotwidth,prefix='slotwidth')],axis=1)\n",
    "    dataframe = pd.concat([dataframe,pd.get_dummies(dataframe.slotheight,prefix='slotheight')],axis=1)\n",
    "    dataframe = pd.concat([dataframe,pd.get_dummies(dataframe.slotvisibility,prefix='slotvisibility')],axis=1)    \n",
    "    dataframe = pd.concat([dataframe,pd.get_dummies(dataframe.slotformat,prefix='slotformat')],axis=1)\n",
    "    \n",
    "    dataframe = dataframe.drop('weekday',axis=1)\n",
    "    dataframe = dataframe.drop('hour',axis=1)\n",
    "    dataframe = dataframe.drop('region',axis=1)\n",
    "    dataframe = dataframe.drop('adexchange',axis=1)\n",
    "    dataframe = dataframe.drop('slotwidth',axis=1)\n",
    "    dataframe = dataframe.drop('slotheight',axis=1)\n",
    "    dataframe = dataframe.drop('advertiser',axis=1)\n",
    "    dataframe = dataframe.drop('slotvisibility',axis=1)\n",
    "    dataframe = dataframe.drop('slotformat',axis=1)\n",
    "    return dataframe\n",
    "\n",
    "def encode_os_browser(dataframe):\n",
    "    df_temp = pd.DataFrame(dataframe.useragent.str.split('_',1).tolist(), columns = ['OS','browser'])\n",
    "    dataframe = pd.concat([dataframe,df_temp],axis=1)\n",
    "    dataframe = dataframe.drop('useragent',axis=1)\n",
    "    dataframe = pd.concat([dataframe,pd.get_dummies(dataframe.OS,prefix='OS')],axis=1)\n",
    "    dataframe = dataframe.drop('OS',axis=1)\n",
    "    dataframe = pd.concat([dataframe,pd.get_dummies(dataframe.browser,prefix='browser')],axis=1)\n",
    "    dataframe = dataframe.drop('browser',axis=1)\n",
    "    return dataframe\n",
    "# 12. Encode slotprice into 5 ranges\n",
    "def encode_slotprice(dataframe):\n",
    "    slotprice_range = pd.DataFrame()\n",
    "    slotprice_range['slotprices'] = pd.cut(dataframe.slotprice.values,5, labels=[1,2,3,4,5])\n",
    "    dataframe = pd.concat([dataframe,slotprice_range],axis=1)\n",
    "    dataframe = pd.concat([dataframe,pd.get_dummies(dataframe.slotprices,prefix='slotprice')],axis=1)\n",
    "    dataframe = dataframe.drop('slotprice',axis=1)\n",
    "    dataframe = dataframe.drop('slotprices',axis=1)\n",
    "    return dataframe\n",
    "def encode_usertags(dataframe):\n",
    "    usertags = list(dataframe.usertag)\n",
    "    unique_users = set()\n",
    "    list_users = []\n",
    "    for user in usertags:\n",
    "        u = user.split(',')\n",
    "        list_users.append(u)\n",
    "        for us in u:\n",
    "            unique_users.add(us)\n",
    "    users = pd.DataFrame()\n",
    "    for user in unique_users:\n",
    "        users[\"user_\"+user] = 0\n",
    "    dataframe = pd.concat([dataframe,users],axis=1)\n",
    "    for user in unique_users:\n",
    "        datas = []\n",
    "        for users in list_users:\n",
    "            if user in users:\n",
    "                datas.append(1)\n",
    "            else:\n",
    "                datas.append(0)\n",
    "        dataframe[\"user_\"+user] = datas\n",
    "    dataframe = dataframe.drop('usertag',axis=1)\n",
    "    return dataframe"
   ]
  },
  {
   "cell_type": "code",
   "execution_count": 11,
   "metadata": {},
   "outputs": [],
   "source": [
    "xtrain = pip(train_x)\n",
    "xtrain = encode_os_browser(xtrain)\n",
    "xtrain = encode_usertags(xtrain)\n",
    "\n",
    "xval = pip(val_x)\n",
    "xval = encode_os_browser(xval)\n",
    "xval = encode_usertags(xval)\n",
    "\n",
    "train_x = xtrain\n",
    "\n",
    "val_x = xval\n"
   ]
  },
  {
   "cell_type": "code",
   "execution_count": 14,
   "metadata": {},
   "outputs": [
    {
     "data": {
      "text/plain": [
       "(2427741, 215)"
      ]
     },
     "execution_count": 14,
     "metadata": {},
     "output_type": "execute_result"
    }
   ],
   "source": [
    "train_x.shape"
   ]
  },
  {
   "cell_type": "code",
   "execution_count": 12,
   "metadata": {},
   "outputs": [],
   "source": [
    "from keras.models import Sequential\n",
    "from keras.layers import Embedding\n",
    "from keras.layers import Convolution1D, GlobalMaxPooling1D, ZeroPadding1D\n",
    "from keras.layers import Convolution2D, MaxPooling2D, ZeroPadding2D, GlobalAveragePooling2D, AveragePooling2D\n",
    "from keras.layers import Activation, Dropout, Flatten, Dense"
   ]
  },
  {
   "cell_type": "code",
   "execution_count": 24,
   "metadata": {},
   "outputs": [
    {
     "name": "stdout",
     "output_type": "stream",
     "text": [
      "starting building the model:\n",
      "Train on 2427741 samples, validate on 303507 samples\n",
      "Epoch 1/50\n",
      " - 79s - loss: 0.0419 - acc: 0.9986 - val_loss: 0.0054 - val_acc: 0.9993\n",
      "Epoch 2/50\n",
      " - 77s - loss: 0.0057 - acc: 0.9993 - val_loss: 0.0052 - val_acc: 0.9993\n",
      "Epoch 3/50\n",
      " - 77s - loss: 0.0052 - acc: 0.9993 - val_loss: 0.0052 - val_acc: 0.9993\n",
      "Epoch 4/50\n",
      " - 78s - loss: 0.0049 - acc: 0.9993 - val_loss: 0.0050 - val_acc: 0.9993\n",
      "Epoch 5/50\n",
      " - 77s - loss: 0.0048 - acc: 0.9993 - val_loss: 0.0052 - val_acc: 0.9993\n",
      "Epoch 6/50\n",
      " - 77s - loss: 0.0047 - acc: 0.9993 - val_loss: 0.0054 - val_acc: 0.9993\n",
      "Epoch 7/50\n",
      " - 77s - loss: 0.0047 - acc: 0.9993 - val_loss: 0.0052 - val_acc: 0.9993\n",
      "Epoch 8/50\n",
      " - 77s - loss: 0.0047 - acc: 0.9993 - val_loss: 0.0054 - val_acc: 0.9993\n",
      "Epoch 9/50\n",
      " - 77s - loss: 0.0046 - acc: 0.9993 - val_loss: 0.0053 - val_acc: 0.9993\n",
      "Epoch 10/50\n",
      " - 77s - loss: 0.0046 - acc: 0.9993 - val_loss: 0.0054 - val_acc: 0.9993\n",
      "Epoch 11/50\n",
      " - 77s - loss: 0.0046 - acc: 0.9993 - val_loss: 0.0055 - val_acc: 0.9993\n",
      "Epoch 12/50\n",
      " - 77s - loss: 0.0046 - acc: 0.9993 - val_loss: 0.0054 - val_acc: 0.9993\n",
      "Epoch 13/50\n",
      " - 77s - loss: 0.0046 - acc: 0.9993 - val_loss: 0.0053 - val_acc: 0.9993\n",
      "Epoch 14/50\n",
      " - 77s - loss: 0.0045 - acc: 0.9993 - val_loss: 0.0053 - val_acc: 0.9993\n",
      "Epoch 15/50\n",
      " - 77s - loss: 0.0045 - acc: 0.9993 - val_loss: 0.0054 - val_acc: 0.9993\n",
      "Epoch 16/50\n",
      " - 78s - loss: 0.0045 - acc: 0.9993 - val_loss: 0.0054 - val_acc: 0.9993\n",
      "Epoch 17/50\n",
      " - 77s - loss: 0.0045 - acc: 0.9993 - val_loss: 0.0054 - val_acc: 0.9993\n",
      "Epoch 18/50\n",
      " - 77s - loss: 0.0045 - acc: 0.9993 - val_loss: 0.0054 - val_acc: 0.9993\n",
      "Epoch 19/50\n",
      " - 77s - loss: 0.0045 - acc: 0.9993 - val_loss: 0.0055 - val_acc: 0.9993\n",
      "Epoch 20/50\n",
      " - 77s - loss: 0.0044 - acc: 0.9993 - val_loss: 0.0054 - val_acc: 0.9993\n",
      "Epoch 21/50\n",
      " - 77s - loss: 0.0044 - acc: 0.9993 - val_loss: 0.0054 - val_acc: 0.9993\n",
      "Epoch 22/50\n",
      " - 77s - loss: 0.0044 - acc: 0.9993 - val_loss: 0.0053 - val_acc: 0.9993\n",
      "Epoch 23/50\n",
      " - 77s - loss: 0.0044 - acc: 0.9993 - val_loss: 0.0055 - val_acc: 0.9993\n",
      "Epoch 24/50\n",
      " - 78s - loss: 0.0044 - acc: 0.9993 - val_loss: 0.0055 - val_acc: 0.9993\n",
      "Epoch 25/50\n",
      " - 80s - loss: 0.0044 - acc: 0.9993 - val_loss: 0.0053 - val_acc: 0.9993\n",
      "Epoch 26/50\n",
      " - 78s - loss: 0.0044 - acc: 0.9993 - val_loss: 0.0053 - val_acc: 0.9993\n",
      "Epoch 27/50\n",
      " - 77s - loss: 0.0044 - acc: 0.9993 - val_loss: 0.0053 - val_acc: 0.9993\n",
      "Epoch 28/50\n",
      " - 83s - loss: 0.0044 - acc: 0.9993 - val_loss: 0.0056 - val_acc: 0.9993\n",
      "Epoch 29/50\n",
      " - 79s - loss: 0.0044 - acc: 0.9993 - val_loss: 0.0054 - val_acc: 0.9993\n",
      "Epoch 30/50\n",
      " - 77s - loss: 0.0044 - acc: 0.9993 - val_loss: 0.0054 - val_acc: 0.9993\n",
      "Epoch 31/50\n",
      " - 77s - loss: 0.0044 - acc: 0.9993 - val_loss: 0.0055 - val_acc: 0.9993\n",
      "Epoch 32/50\n",
      " - 78s - loss: 0.0044 - acc: 0.9993 - val_loss: 0.0053 - val_acc: 0.9993\n",
      "Epoch 33/50\n",
      " - 77s - loss: 0.0044 - acc: 0.9993 - val_loss: 0.0054 - val_acc: 0.9993\n",
      "Epoch 34/50\n",
      " - 77s - loss: 0.0044 - acc: 0.9993 - val_loss: 0.0054 - val_acc: 0.9993\n",
      "Epoch 35/50\n",
      " - 78s - loss: 0.0044 - acc: 0.9993 - val_loss: 0.0055 - val_acc: 0.9993\n",
      "Epoch 36/50\n",
      " - 77s - loss: 0.0044 - acc: 0.9993 - val_loss: 0.0056 - val_acc: 0.9993\n",
      "Epoch 37/50\n",
      " - 77s - loss: 0.0044 - acc: 0.9993 - val_loss: 0.0054 - val_acc: 0.9993\n",
      "Epoch 38/50\n",
      " - 77s - loss: 0.0044 - acc: 0.9993 - val_loss: 0.0054 - val_acc: 0.9993\n",
      "Epoch 39/50\n",
      " - 78s - loss: 0.0044 - acc: 0.9993 - val_loss: 0.0053 - val_acc: 0.9993\n",
      "Epoch 40/50\n",
      " - 77s - loss: 0.0044 - acc: 0.9993 - val_loss: 0.0055 - val_acc: 0.9993\n",
      "Epoch 41/50\n",
      " - 77s - loss: 0.0044 - acc: 0.9993 - val_loss: 0.0055 - val_acc: 0.9993\n",
      "Epoch 42/50\n",
      " - 77s - loss: 0.0043 - acc: 0.9993 - val_loss: 0.0054 - val_acc: 0.9993\n",
      "Epoch 43/50\n",
      " - 77s - loss: 0.0043 - acc: 0.9993 - val_loss: 0.0053 - val_acc: 0.9993\n",
      "Epoch 44/50\n",
      " - 78s - loss: 0.0043 - acc: 0.9993 - val_loss: 0.0053 - val_acc: 0.9993\n",
      "Epoch 45/50\n",
      " - 77s - loss: 0.0044 - acc: 0.9993 - val_loss: 0.0054 - val_acc: 0.9993\n",
      "Epoch 46/50\n",
      " - 77s - loss: 0.0044 - acc: 0.9993 - val_loss: 0.0053 - val_acc: 0.9993\n",
      "Epoch 47/50\n",
      " - 77s - loss: 0.0044 - acc: 0.9993 - val_loss: 0.0053 - val_acc: 0.9993\n",
      "Epoch 48/50\n",
      " - 77s - loss: 0.0044 - acc: 0.9993 - val_loss: 0.0057 - val_acc: 0.9993\n",
      "Epoch 49/50\n",
      " - 77s - loss: 0.0044 - acc: 0.9993 - val_loss: 0.0053 - val_acc: 0.9993\n",
      "Epoch 50/50\n",
      " - 77s - loss: 0.0043 - acc: 0.9993 - val_loss: 0.0052 - val_acc: 0.9993\n",
      "Baseline Error: 0.07%\n"
     ]
    }
   ],
   "source": [
    "print('starting building the model:')\n",
    "\n",
    "# define baseline model\n",
    "def baseline_model():\n",
    "    # create model\n",
    "    model = Sequential()\n",
    "    model.add(Dense(12, input_dim=215, activation='relu'))\n",
    "    model.add(Dropout(0.1))\n",
    "    model.add(Dense(24, kernel_initializer='normal', activation='softmax'))\n",
    "    model.add(Dropout(0.1))\n",
    "    model.add(Dense(1, activation='sigmoid'))\n",
    "    # Compile model\n",
    "    model.compile(loss='binary_crossentropy', optimizer='adam', metrics=['accuracy'])\n",
    "    return model\n",
    "\n",
    "model = baseline_model()\n",
    "# Fit the model\n",
    "model.fit(train_x, train_y, validation_data=(val_x, val_y), epochs=50, batch_size=200, verbose=2)\n",
    "# Final evaluation of the model\n",
    "scores = model.evaluate(val_x, val_y, verbose=0)\n",
    "print(\"Baseline Error: %.2f%%\" % (100-scores[1]*100))\n"
   ]
  },
  {
   "cell_type": "code",
   "execution_count": 25,
   "metadata": {
    "collapsed": true
   },
   "outputs": [],
   "source": [
    "val_pred = model.predict(x_val)"
   ]
  },
  {
   "cell_type": "code",
   "execution_count": 26,
   "metadata": {},
   "outputs": [
    {
     "data": {
      "text/plain": [
       "array([[0.00010655],\n",
       "       [0.00010958],\n",
       "       [0.00017995],\n",
       "       ...,\n",
       "       [0.0001585 ],\n",
       "       [0.00021819],\n",
       "       [0.00067166]], dtype=float32)"
      ]
     },
     "execution_count": 26,
     "metadata": {},
     "output_type": "execute_result"
    }
   ],
   "source": [
    "val_pred"
   ]
  },
  {
   "cell_type": "code",
   "execution_count": 30,
   "metadata": {
    "collapsed": true
   },
   "outputs": [],
   "source": [
    "avgCTR = 1785/2427741\n",
    "best_base_bid = -1\n",
    "best_metrics = [-1, -1, float('inf'), float('inf'), float('inf')]\n",
    "new_val = df_val.copy()\n",
    "f = open('linear_bid_cnn_tuning.txt','w')\n",
    "basicbid = [240,241,242,243,244,245,246,247,248,249,250,251]\n",
    "\n",
    "for base_bid in basicbid:\n",
    "    bidprices = [x * base_bid / avgCTR for x in val_pred]\n",
    "    new_val['bidprice'] = bidprices\n",
    "    budget = 6250\n",
    "    suc_bids = new_val.query('bidprice > payprice ')\n",
    "    cost = 0\n",
    "    clicks = 0\n",
    "    imps = 0\n",
    "    for index, row in suc_bids.iterrows():\n",
    "        if cost <= budget:\n",
    "            cost += row['payprice'] / 1000\n",
    "            clicks += row['click']\n",
    "            imps += 1\n",
    "    eCPC = cost / clicks if clicks > 0 else float('inf')\n",
    "    metrics_list = [clicks, clicks / imps * 100, cost, cost / imps, eCPC]\n",
    "    f.write('current base_bid: ' + str(base_bid) + '\\n')\n",
    "    f.write('current metrics: ' + str(metrics_list) + '\\n')    \n",
    "    f.flush()\n",
    "f.close()"
   ]
  },
  {
   "cell_type": "code",
   "execution_count": 35,
   "metadata": {},
   "outputs": [],
   "source": [
    "trainx = np.expand_dims(train_x,axis=1)\n",
    "valx = np.expand_dims(val_x,axis=1)"
   ]
  },
  {
   "cell_type": "code",
   "execution_count": 36,
   "metadata": {},
   "outputs": [
    {
     "data": {
      "text/plain": [
       "((2427741, 1, 215), (303507, 1, 215))"
      ]
     },
     "execution_count": 36,
     "metadata": {},
     "output_type": "execute_result"
    }
   ],
   "source": [
    "trainx.shape,valx.shape"
   ]
  },
  {
   "cell_type": "code",
   "execution_count": 55,
   "metadata": {},
   "outputs": [
    {
     "name": "stdout",
     "output_type": "stream",
     "text": [
      "starting building the model:\n"
     ]
    },
    {
     "name": "stderr",
     "output_type": "stream",
     "text": [
      "C:\\Users\\USER\\Anaconda3\\lib\\site-packages\\ipykernel_launcher.py:20: UserWarning: Update your `Conv1D` call to the Keras 2 API: `Conv1D(activation=\"relu\", input_shape=(1, 215), filters=250, kernel_size=3, padding=\"same\")`\n"
     ]
    },
    {
     "name": "stdout",
     "output_type": "stream",
     "text": [
      "Train on 2427741 samples, validate on 303507 samples\n",
      "Epoch 1/20\n",
      " - 343s - loss: 0.0550 - acc: 0.9992 - val_loss: 0.0055 - val_acc: 0.9993\n",
      "Epoch 2/20\n",
      " - 334s - loss: 0.0060 - acc: 0.9993 - val_loss: 0.0053 - val_acc: 0.9993\n",
      "Epoch 3/20\n",
      " - 332s - loss: 0.0057 - acc: 0.9993 - val_loss: 0.0052 - val_acc: 0.9993\n",
      "Epoch 4/20\n",
      " - 333s - loss: 0.0056 - acc: 0.9993 - val_loss: 0.0051 - val_acc: 0.9993\n",
      "Epoch 5/20\n",
      " - 333s - loss: 0.0056 - acc: 0.9993 - val_loss: 0.0052 - val_acc: 0.9993\n",
      "Epoch 6/20\n",
      " - 334s - loss: 0.0056 - acc: 0.9993 - val_loss: 0.0052 - val_acc: 0.9993\n",
      "Epoch 7/20\n",
      " - 333s - loss: 0.0056 - acc: 0.9993 - val_loss: 0.0053 - val_acc: 0.9993\n",
      "Epoch 8/20\n",
      " - 332s - loss: 0.0056 - acc: 0.9993 - val_loss: 0.0053 - val_acc: 0.9993\n",
      "Epoch 9/20\n",
      " - 332s - loss: 0.0056 - acc: 0.9993 - val_loss: 0.0054 - val_acc: 0.9993\n",
      "Epoch 10/20\n",
      " - 333s - loss: 0.0057 - acc: 0.9993 - val_loss: 0.0054 - val_acc: 0.9993\n",
      "Epoch 11/20\n",
      " - 332s - loss: 0.0056 - acc: 0.9993 - val_loss: 0.0054 - val_acc: 0.9993\n",
      "Epoch 12/20\n",
      " - 333s - loss: 0.0057 - acc: 0.9993 - val_loss: 0.0054 - val_acc: 0.9993\n",
      "Epoch 13/20\n",
      " - 334s - loss: 0.0056 - acc: 0.9993 - val_loss: 0.0053 - val_acc: 0.9993\n",
      "Epoch 14/20\n",
      " - 332s - loss: 0.0057 - acc: 0.9993 - val_loss: 0.0054 - val_acc: 0.9993\n",
      "Epoch 15/20\n",
      " - 331s - loss: 0.0056 - acc: 0.9993 - val_loss: 0.0054 - val_acc: 0.9993\n",
      "Epoch 16/20\n",
      " - 330s - loss: 0.0056 - acc: 0.9993 - val_loss: 0.0054 - val_acc: 0.9993\n",
      "Epoch 17/20\n",
      " - 331s - loss: 0.0056 - acc: 0.9993 - val_loss: 0.0054 - val_acc: 0.9993\n",
      "Epoch 18/20\n",
      " - 332s - loss: 0.0056 - acc: 0.9993 - val_loss: 0.0054 - val_acc: 0.9993\n",
      "Epoch 19/20\n",
      " - 330s - loss: 0.0056 - acc: 0.9993 - val_loss: 0.0054 - val_acc: 0.9993\n",
      "Epoch 20/20\n",
      " - 330s - loss: 0.0056 - acc: 0.9993 - val_loss: 0.0054 - val_acc: 0.9993\n",
      "Baseline Error: 99.93%\n"
     ]
    }
   ],
   "source": [
    "max_features = 5000 #5000\n",
    "maxlen = 215\n",
    "embedding_dims = 50\n",
    "nb_filter = 250\n",
    "filter_length = 3\n",
    "hidden_dims = 250\n",
    "input_dim = 215\n",
    "output_dim =1\n",
    "\n",
    "print('starting building the model:')\n",
    "\n",
    "# define baseline model\n",
    "def baseline_model2():\n",
    "    # create model\n",
    "    model = Sequential()\n",
    "    model.add(Convolution1D(nb_filter=nb_filter, \n",
    "                        filter_length=filter_length,\n",
    "                        border_mode='same',#'valid',\n",
    "                        activation='relu',\n",
    "                        input_shape=(1,input_dim),\n",
    "                       ))\n",
    "    # we use max pooling:\n",
    "    model.add(GlobalMaxPooling1D())\n",
    "    model.add(Dense(512, kernel_initializer='normal', activation='softmax'))\n",
    "    model.add(Dropout(0.2))\n",
    "    model.add(Dense(1, activation='sigmoid'))\n",
    "    # Compile model\n",
    "    model.compile(loss='binary_crossentropy', optimizer='adam', metrics=['accuracy'])\n",
    "    return model\n",
    "\n",
    "model2 = baseline_model2()\n",
    "# Fit the model\n",
    "model2.fit(trainx, train_y, validation_data=(valx, val_y), epochs=20, batch_size=200, verbose=2)\n",
    "# Final evaluation of the model\n",
    "scores = model.evaluate(valx, val_y, verbose=0)\n",
    "print(\"Baseline Error: %.2f%%\" % (100-scores[1]*100))\n"
   ]
  },
  {
   "cell_type": "code",
   "execution_count": 56,
   "metadata": {},
   "outputs": [
    {
     "data": {
      "text/plain": [
       "array([[0.00065134],\n",
       "       [0.00065134],\n",
       "       [0.00065134],\n",
       "       ...,\n",
       "       [0.00065157],\n",
       "       [0.00065134],\n",
       "       [0.00065134]], dtype=float32)"
      ]
     },
     "execution_count": 56,
     "metadata": {},
     "output_type": "execute_result"
    }
   ],
   "source": [
    "val_pred2 = model2.predict(valx)\n",
    "val_pred2"
   ]
  },
  {
   "cell_type": "code",
   "execution_count": 58,
   "metadata": {
    "collapsed": true
   },
   "outputs": [],
   "source": [
    "avgCTR = 1785/2427741\n",
    "best_base_bid = -1\n",
    "best_metrics = [-1, -1, float('inf'), float('inf'), float('inf')]\n",
    "new_val = df_val.copy()\n",
    "f = open('linear_bid_keras_cnn.txt','w')\n",
    "basicbid = [70,80,90,100,110]\n",
    "\n",
    "for base_bid in basicbid:\n",
    "    bidprices = [x * base_bid / avgCTR for x in val_pred2]\n",
    "    new_val['bidprice'] = bidprices\n",
    "    budget = 6250\n",
    "    suc_bids = new_val.query('bidprice > payprice ')\n",
    "    cost = 0\n",
    "    clicks = 0\n",
    "    imps = 0\n",
    "    for index, row in suc_bids.iterrows():\n",
    "        if cost <= budget:\n",
    "            cost += row['payprice'] / 1000\n",
    "            clicks += row['click']\n",
    "            imps += 1\n",
    "    eCPC = cost / clicks if clicks > 0 else float('inf')\n",
    "    metrics_list = [clicks, clicks / imps * 100, cost, cost / imps, eCPC]\n",
    "    f.write('current base_bid: ' + str(base_bid) + '\\n')\n",
    "    f.write('current metrics: ' + str(metrics_list) + '\\n')    \n",
    "    f.flush()\n",
    "f.close()"
   ]
  },
  {
   "cell_type": "code",
   "execution_count": null,
   "metadata": {
    "collapsed": true
   },
   "outputs": [],
   "source": []
  }
 ],
 "metadata": {
  "kernelspec": {
   "display_name": "Python 3",
   "language": "python",
   "name": "python3"
  },
  "language_info": {
   "codemirror_mode": {
    "name": "ipython",
    "version": 3
   },
   "file_extension": ".py",
   "mimetype": "text/x-python",
   "name": "python",
   "nbconvert_exporter": "python",
   "pygments_lexer": "ipython3",
   "version": "3.6.2"
  }
 },
 "nbformat": 4,
 "nbformat_minor": 2
}
