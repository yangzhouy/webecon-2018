{
 "cells": [
  {
   "cell_type": "markdown",
   "metadata": {},
   "source": [
    "#  The lr model part"
   ]
  },
  {
   "cell_type": "markdown",
   "metadata": {},
   "source": [
    "## load library"
   ]
  },
  {
   "cell_type": "code",
   "execution_count": 1,
   "metadata": {
    "collapsed": true
   },
   "outputs": [],
   "source": [
    "import pandas as pd\n",
    "import os\n",
    "from sklearn import linear_model, datasets, preprocessing, metrics\n",
    "from sklearn.metrics import accuracy_score\n",
    "from sklearn.feature_extraction import DictVectorizer\n",
    "import numpy as np\n",
    "from sklearn.model_selection import KFold"
   ]
  },
  {
   "cell_type": "markdown",
   "metadata": {},
   "source": [
    "## load dataset"
   ]
  },
  {
   "cell_type": "code",
   "execution_count": 2,
   "metadata": {},
   "outputs": [
    {
     "data": {
      "text/plain": [
       "((2427741, 25), (303507, 25))"
      ]
     },
     "execution_count": 2,
     "metadata": {},
     "output_type": "execute_result"
    }
   ],
   "source": [
    "train = pd.read_csv(os.path.join('train.csv'))\n",
    "val = pd.read_csv(os.path.join('validation.csv'))\n",
    "test = pd.read_csv(os.path.join('test.csv'))\n",
    "\n",
    "# now get rid of all the cases that payprice equals zero, which is the failed bid \n",
    "train1 = train[train.payprice>0]\n",
    "# now get rid of all the bidprice = payprice cases, not win cases\n",
    "train2 = train1[train1.bidprice>train1.payprice]\n",
    "\n",
    "# now get rid of all the cases that payprice equals zero, which is the failed bid \n",
    "val1 = val[val.payprice>0]\n",
    "# now get rid of all the bidprice = payprice cases, not win cases\n",
    "val2 = val1[val1.bidprice>val1.payprice]\n",
    "\n",
    "train2.shape,val2.shape"
   ]
  },
  {
   "cell_type": "code",
   "execution_count": 3,
   "metadata": {
    "collapsed": true
   },
   "outputs": [],
   "source": [
    "train2.to_csv('data/train_clean.csv',index=False)\n",
    "\n",
    "val2.to_csv('data/val_clean.csv',index=False)\n"
   ]
  },
  {
   "cell_type": "markdown",
   "metadata": {},
   "source": [
    "## Downsampling and preprocessing"
   ]
  },
  {
   "cell_type": "code",
   "execution_count": 4,
   "metadata": {
    "collapsed": true
   },
   "outputs": [],
   "source": [
    "def downsampling(data):\n",
    "    data_no_click = data.query('click == 0')\n",
    "    data_one_click = data.query('click == 1')\n",
    "    sample_nums = len(data_one_click) * 20\n",
    "    new_data_no_click = data_no_click.sample(n=sample_nums, random_state=42)\n",
    "    return pd.concat([new_data_no_click, data_one_click])"
   ]
  },
  {
   "cell_type": "code",
   "execution_count": 5,
   "metadata": {
    "collapsed": true
   },
   "outputs": [],
   "source": [
    "def preprocess_data(data, enforce_cols=None):\n",
    "    data = data.sort_index(axis=0)\n",
    "    to_drop = ['userid', 'bidid', 'url', 'urlid', 'IP', 'keypage', 'slotid', 'creative', 'domain']\n",
    "    data = data.drop(to_drop, axis=1)\n",
    "  \n",
    "    colums_split = data['useragent'].str.split('_', expand=True)\n",
    "    data = data.join(colums_split.rename(columns={0:'os', 1:'browser'}))\n",
    "#     data = data.apply(lambda row: hash_feature(row), axis=1)\n",
    "    \n",
    "    colums_split = data['usertag'].str.split(',')\n",
    "    colums_split = colums_split.str.join('|').str.get_dummies()\n",
    "    colums_split = colums_split.add_prefix('usertag_')\n",
    "    data = data.join(colums_split)\n",
    "    \n",
    "    data.drop(['useragent', 'usertag'], axis=1, inplace=True)\n",
    "    data.fillna(\"unknown\", inplace=True)\n",
    "    data = pd.get_dummies(data)\n",
    "\n",
    "    # match test set and training set columns\n",
    "    if enforce_cols is not None:\n",
    "    # enforce_cols is the columns of train set, to_drop and to_add finds the difference\n",
    "        to_drop = np.setdiff1d(data.columns, enforce_cols)\n",
    "        to_add = np.setdiff1d(enforce_cols, data.columns)\n",
    "        data.drop(to_drop, axis=1, inplace=True)\n",
    "        data = data.assign(**{c: 0 for c in to_add})\n",
    "        \n",
    "    data = data.reindex(columns={c:c.lower() for c in sorted(data.columns)})\n",
    "    return data"
   ]
  },
  {
   "cell_type": "code",
   "execution_count": 6,
   "metadata": {},
   "outputs": [
    {
     "name": "stdout",
     "output_type": "stream",
     "text": [
      "(37485, 114) (303507, 114)\n",
      "Wall time: 31.7 s\n"
     ]
    }
   ],
   "source": [
    "%%time\n",
    "train_processed = downsampling(train2.copy())\n",
    "train_processed = preprocess_data(train_processed)\n",
    "val_processed = preprocess_data(val2.copy(), enforce_cols=train_processed.columns)\n",
    "print(train_processed.shape,val_processed.shape)"
   ]
  },
  {
   "cell_type": "markdown",
   "metadata": {},
   "source": [
    "### save the processed data\n",
    "\n",
    "train_processed.to_csv('data/train_processed.csv',index=False)\n",
    "\n",
    "val_processed.to_csv('data/val_processed.csv',index=False)\n"
   ]
  },
  {
   "cell_type": "code",
   "execution_count": 7,
   "metadata": {
    "collapsed": true
   },
   "outputs": [],
   "source": [
    "train_x = train_processed.drop('click', axis=1)\n",
    "train_y = train_processed['click']\n",
    "val_x = val_processed.drop('click', axis=1)\n",
    "val_y = val_processed['click']\n"
   ]
  },
  {
   "cell_type": "code",
   "execution_count": 8,
   "metadata": {
    "collapsed": true
   },
   "outputs": [],
   "source": [
    "# Caculate the root mean square error\n",
    "def rmse(preds, labels):\n",
    "    diff = preds - labels                       \n",
    "    mean_diff_squared = (diff ** 2).mean()  \n",
    "    error = np.sqrt(mean_diff_squared)\n",
    "\n",
    "    return error "
   ]
  },
  {
   "cell_type": "markdown",
   "metadata": {},
   "source": [
    "## Training the model"
   ]
  },
  {
   "cell_type": "code",
   "execution_count": 9,
   "metadata": {},
   "outputs": [
    {
     "name": "stdout",
     "output_type": "stream",
     "text": [
      "CTR in the val is  0.0006622582016230269\n",
      "rmse between pCTR and CTR: 0.039070443583817616\n",
      "rmse between pred clicks and clicks: 0.0696754105737384\n"
     ]
    }
   ],
   "source": [
    "## logistic regression in linear model\n",
    "CTR = sum(val_y) / len(val_x)\n",
    "print('CTR in the val is ',CTR)\n",
    "error = float('inf')\n",
    "for i in range(5):\n",
    "    model = linear_model.LogisticRegression(C=1)\n",
    "    model.fit(train_x, train_y)\n",
    "    val_pred = model.predict_proba(val_x)[:,1]\n",
    "    pCTR = sum(val_pred) / len(val_x)\n",
    "    curr_error = rmse(pCTR, CTR)\n",
    "    if curr_error < error:\n",
    "        error = curr_error\n",
    "        best_pCTR = pCTR\n",
    "        best_val_pred = val_pred\n",
    "print('rmse between pCTR and CTR: ' + str(error))\n",
    "val_pred = best_val_pred\n",
    "print('rmse between pred clicks and clicks: ' + str(rmse(val_pred, val_y)))"
   ]
  },
  {
   "cell_type": "code",
   "execution_count": 10,
   "metadata": {
    "collapsed": true
   },
   "outputs": [],
   "source": [
    "def compare_performance(metrics_list, best_metrics):\n",
    "    return metrics_list[0] >= best_metrics[0] and metrics_list[1] >= best_metrics[1]"
   ]
  },
  {
   "cell_type": "code",
   "execution_count": 11,
   "metadata": {},
   "outputs": [
    {
     "name": "stdout",
     "output_type": "stream",
     "text": [
      "0.0007352514127330716\n"
     ]
    }
   ],
   "source": [
    "avgCTR = 1785/2427741\n",
    "print(avgCTR)"
   ]
  },
  {
   "cell_type": "code",
   "execution_count": 19,
   "metadata": {},
   "outputs": [],
   "source": [
    "best_base_bid = -1\n",
    "best_metrics = [-1, -1, float('inf'), float('inf'), float('inf')]\n",
    "new_val = val2.copy()\n",
    "f = open('linear_bid_lr.txt','w')\n",
    "basicbid = [1.3,1.35,1.38,1.4,1.42]\n",
    "\n",
    "for base_bid in basicbid:\n",
    "    bidprices = [x * base_bid / avgCTR for x in val_pred]\n",
    "    new_val['bidprice'] = bidprices\n",
    "    budget = 6250\n",
    "    suc_bids = new_val.query('bidprice > payprice ')\n",
    "    cost = 0\n",
    "    clicks = 0\n",
    "    imps = 0\n",
    "    for index, row in suc_bids.iterrows():\n",
    "        if cost <= budget:\n",
    "            cost += row['payprice'] / 1000\n",
    "            clicks += row['click']\n",
    "            imps += 1\n",
    "    eCPC = cost / clicks if clicks > 0 else float('inf')\n",
    "    metrics_list = [clicks, clicks / imps * 100, cost, cost / imps, eCPC]\n",
    "    f.write('current base_bid: ' + str(base_bid) + '\\n')\n",
    "    f.write('current metrics: ' + str(metrics_list) + '\\n')    \n",
    "    if compare_performance(metrics_list, best_metrics):\n",
    "        best_metrics = metrics_list\n",
    "        best_base_bid = base_bid\n",
    "        f.write('best_metrics: ' + str(best_metrics) + '\\n')\n",
    "        f.write('best bidding price: ' + str(best_base_bid) + '\\n')      \n",
    "    f.flush()\n",
    "f.close()"
   ]
  },
  {
   "cell_type": "code",
   "execution_count": 13,
   "metadata": {
    "collapsed": true
   },
   "outputs": [],
   "source": [
    "# when basic_bid = 1.4 maxium click 153, CTR=0.12308, \n",
    "# cost = 6150.477,avgCPM=0.049479, eCPC = 40.19920, "
   ]
  },
  {
   "cell_type": "markdown",
   "metadata": {},
   "source": [
    "## try quadratic bidding"
   ]
  },
  {
   "cell_type": "code",
   "execution_count": 22,
   "metadata": {
    "collapsed": true
   },
   "outputs": [],
   "source": [
    "best_base_bid = -1\n",
    "best_metrics = [-1, -1, float('inf'), float('inf'), float('inf')]\n",
    "new_val = val2.copy()\n",
    "f = open('quadratic_bid_lr.txt','w')\n",
    "basicbid = [1.25,1.28,1.3]\n",
    "\n",
    "for base_bid in basicbid:\n",
    "    bidprices = [(x * base_bid / avgCTR +x*x*base_bid/avgCTR)for x in val_pred]\n",
    "    new_val['bidprice'] = bidprices\n",
    "    budget = 6250\n",
    "    suc_bids = new_val.query('bidprice > payprice ')\n",
    "    cost = 0\n",
    "    clicks = 0\n",
    "    imps = 0\n",
    "    for index, row in suc_bids.iterrows():\n",
    "        if cost <= budget:\n",
    "            cost += row['payprice'] / 1000\n",
    "            clicks += row['click']\n",
    "            imps += 1\n",
    "    eCPC = cost / clicks if clicks > 0 else float('inf')\n",
    "    metrics_list = [clicks, clicks / imps * 100, cost, cost / imps, eCPC]\n",
    "    f.write('current base_bid: ' + str(base_bid) + '\\n')\n",
    "    f.write('current metrics: ' + str(metrics_list) + '\\n')    \n",
    "    if compare_performance(metrics_list, best_metrics):\n",
    "        best_metrics = metrics_list\n",
    "        best_base_bid = base_bid\n",
    "        f.write('best_metrics: ' + str(best_metrics) + '\\n')\n",
    "        f.write('best bidding price: ' + str(best_base_bid) + '\\n')      \n",
    "    f.flush()\n",
    "f.close()"
   ]
  },
  {
   "cell_type": "code",
   "execution_count": 15,
   "metadata": {
    "collapsed": true
   },
   "outputs": [],
   "source": [
    "# when basic_bid = 1.28 maxium click 151, CTR=0.128273, \n",
    "# cost = 5832.639,avgCPM=0.04955, eCPC = 38.6267"
   ]
  },
  {
   "cell_type": "markdown",
   "metadata": {},
   "source": [
    "# try ORBT bidding"
   ]
  },
  {
   "cell_type": "code",
   "execution_count": 27,
   "metadata": {
    "collapsed": true
   },
   "outputs": [],
   "source": [
    "best_base_bid = -1\n",
    "best_metrics = [-1, -1, float('inf'), float('inf'), float('inf')]\n",
    "new_val = val2.copy()\n",
    "f = open('ORBT_lr.txt','w')\n",
    "\n",
    "c_list = [1.48,1.5,1.51,1.52,1.53,1.54]\n",
    "l = 1e-05\n",
    "\n",
    "for c in c_list:\n",
    "    bidprices = [(np.sqrt(((c/l)*x)+(c*c))-c)for x in val_pred]\n",
    "    new_val['bidprice'] = bidprices\n",
    "    budget = 6250\n",
    "    suc_bids = new_val.query('bidprice > payprice ')\n",
    "    cost = 0\n",
    "    clicks = 0\n",
    "    imps = 0\n",
    "    for index, row in suc_bids.iterrows():\n",
    "        if cost <= budget:\n",
    "            cost += row['payprice'] / 1000\n",
    "            clicks += row['click']\n",
    "            imps += 1\n",
    "    eCPC = cost / clicks if clicks > 0 else float('inf')\n",
    "    metrics_list = [clicks, clicks / imps * 100, cost, cost / imps, eCPC]\n",
    "    f.write('current c: ' + str(c) + '\\n')\n",
    "    f.write('current metrics: ' + str(metrics_list) + '\\n')    \n",
    "    f.flush()\n",
    "f.close()"
   ]
  },
  {
   "cell_type": "code",
   "execution_count": 17,
   "metadata": {
    "collapsed": true
   },
   "outputs": [],
   "source": [
    "# when c=1.48 , l=1e-5,  maxium click 149, CTR=0.10244%,\n",
    "# cost = 5906.342,avgCPM= 0.0406, eCPC = 39.6398"
   ]
  },
  {
   "cell_type": "code",
   "execution_count": null,
   "metadata": {
    "collapsed": true
   },
   "outputs": [],
   "source": []
  },
  {
   "cell_type": "code",
   "execution_count": null,
   "metadata": {
    "collapsed": true
   },
   "outputs": [],
   "source": []
  }
 ],
 "metadata": {
  "kernelspec": {
   "display_name": "Python 3",
   "language": "python",
   "name": "python3"
  },
  "language_info": {
   "codemirror_mode": {
    "name": "ipython",
    "version": 3
   },
   "file_extension": ".py",
   "mimetype": "text/x-python",
   "name": "python",
   "nbconvert_exporter": "python",
   "pygments_lexer": "ipython3",
   "version": "3.6.2"
  }
 },
 "nbformat": 4,
 "nbformat_minor": 2
}
